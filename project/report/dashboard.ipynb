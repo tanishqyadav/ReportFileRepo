{
 "cells": [
  {
   "cell_type": "code",
   "execution_count": 16,
   "metadata": {},
   "outputs": [],
   "source": [
    "import pandas as pd\n",
    "import numpy as np\n",
    "import matplotlib.pyplot as plt"
   ]
  },
  {
   "cell_type": "code",
   "execution_count": 17,
   "metadata": {},
   "outputs": [
    {
     "data": {
      "text/html": [
       "<div>\n",
       "<style scoped>\n",
       "    .dataframe tbody tr th:only-of-type {\n",
       "        vertical-align: middle;\n",
       "    }\n",
       "\n",
       "    .dataframe tbody tr th {\n",
       "        vertical-align: top;\n",
       "    }\n",
       "\n",
       "    .dataframe thead th {\n",
       "        text-align: right;\n",
       "    }\n",
       "</style>\n",
       "<table border=\"1\" class=\"dataframe\">\n",
       "  <thead>\n",
       "    <tr style=\"text-align: right;\">\n",
       "      <th></th>\n",
       "      <th>cgpa</th>\n",
       "      <th>prog_code</th>\n",
       "      <th>session</th>\n",
       "      <th>mobile_number</th>\n",
       "      <th>number_40_per_marks</th>\n",
       "      <th>roll_number</th>\n",
       "      <th>exam_held_month</th>\n",
       "      <th>mother_name</th>\n",
       "      <th>printing_date</th>\n",
       "      <th>semester</th>\n",
       "      <th>...</th>\n",
       "      <th>is_duplicate</th>\n",
       "      <th>father_name</th>\n",
       "      <th>obtained_marks</th>\n",
       "      <th>inst_name</th>\n",
       "      <th>category</th>\n",
       "      <th>aadhar_number</th>\n",
       "      <th>first_name</th>\n",
       "      <th>middle_name</th>\n",
       "      <th>exam_held_year</th>\n",
       "      <th>last_name</th>\n",
       "    </tr>\n",
       "  </thead>\n",
       "  <tbody>\n",
       "    <tr>\n",
       "      <th>0</th>\n",
       "      <td>7.43</td>\n",
       "      <td>14</td>\n",
       "      <td>b'15'</td>\n",
       "      <td>8298659369</td>\n",
       "      <td>970</td>\n",
       "      <td>311111415011</td>\n",
       "      <td>b'12'</td>\n",
       "      <td>MANJU DEVI</td>\n",
       "      <td>b'2018-05-31'</td>\n",
       "      <td>1.0</td>\n",
       "      <td>...</td>\n",
       "      <td>0</td>\n",
       "      <td>UPENDERA DAS</td>\n",
       "      <td>505</td>\n",
       "      <td>Government Polytechnic, Barauni</td>\n",
       "      <td>SC</td>\n",
       "      <td>684609096644</td>\n",
       "      <td>GAURAV</td>\n",
       "      <td>NaN</td>\n",
       "      <td>b'2017'</td>\n",
       "      <td>KUMAR</td>\n",
       "    </tr>\n",
       "    <tr>\n",
       "      <th>1</th>\n",
       "      <td>7.43</td>\n",
       "      <td>14</td>\n",
       "      <td>b'15'</td>\n",
       "      <td>8298659369</td>\n",
       "      <td>970</td>\n",
       "      <td>311111415011</td>\n",
       "      <td>b'05'</td>\n",
       "      <td>MANJU DEVI</td>\n",
       "      <td>b'2018-08-28'</td>\n",
       "      <td>3.0</td>\n",
       "      <td>...</td>\n",
       "      <td>0</td>\n",
       "      <td>UPENDERA DAS</td>\n",
       "      <td>488</td>\n",
       "      <td>Government Polytechnic, Barauni</td>\n",
       "      <td>SC</td>\n",
       "      <td>684609096644</td>\n",
       "      <td>GAURAV</td>\n",
       "      <td>NaN</td>\n",
       "      <td>b'2018'</td>\n",
       "      <td>KUMAR</td>\n",
       "    </tr>\n",
       "    <tr>\n",
       "      <th>2</th>\n",
       "      <td>7.43</td>\n",
       "      <td>14</td>\n",
       "      <td>b'15'</td>\n",
       "      <td>8298659369</td>\n",
       "      <td>970</td>\n",
       "      <td>511111415011</td>\n",
       "      <td>b'12'</td>\n",
       "      <td>MANJU DEVI</td>\n",
       "      <td>b'2019-04-01'</td>\n",
       "      <td>NaN</td>\n",
       "      <td>...</td>\n",
       "      <td>0</td>\n",
       "      <td>UPENDERA DAS</td>\n",
       "      <td>521</td>\n",
       "      <td>Government Polytechnic, Barauni</td>\n",
       "      <td>SC</td>\n",
       "      <td>684609096644</td>\n",
       "      <td>GAURAV</td>\n",
       "      <td>NaN</td>\n",
       "      <td>b'2018'</td>\n",
       "      <td>KUMAR</td>\n",
       "    </tr>\n",
       "    <tr>\n",
       "      <th>3</th>\n",
       "      <td>7.43</td>\n",
       "      <td>14</td>\n",
       "      <td>b'15'</td>\n",
       "      <td>8298659369</td>\n",
       "      <td>970</td>\n",
       "      <td>611111415011</td>\n",
       "      <td>b'06'</td>\n",
       "      <td>MANJU DEVI</td>\n",
       "      <td>b'2019-09-11'</td>\n",
       "      <td>NaN</td>\n",
       "      <td>...</td>\n",
       "      <td>0</td>\n",
       "      <td>UPENDERA DAS</td>\n",
       "      <td>532</td>\n",
       "      <td>Government Polytechnic, Barauni</td>\n",
       "      <td>SC</td>\n",
       "      <td>684609096644</td>\n",
       "      <td>GAURAV</td>\n",
       "      <td>NaN</td>\n",
       "      <td>b'2019'</td>\n",
       "      <td>KUMAR</td>\n",
       "    </tr>\n",
       "    <tr>\n",
       "      <th>4</th>\n",
       "      <td>7.91</td>\n",
       "      <td>14</td>\n",
       "      <td>b'15'</td>\n",
       "      <td>7808196969</td>\n",
       "      <td>1028</td>\n",
       "      <td>311111415021</td>\n",
       "      <td>b'12'</td>\n",
       "      <td>BHWANI DEVI</td>\n",
       "      <td>b'2018-05-31'</td>\n",
       "      <td>NaN</td>\n",
       "      <td>...</td>\n",
       "      <td>0</td>\n",
       "      <td>BINDESHWARI RAJAK</td>\n",
       "      <td>531</td>\n",
       "      <td>Government Polytechnic, Barauni</td>\n",
       "      <td>SC</td>\n",
       "      <td>707574843953</td>\n",
       "      <td>BANTI</td>\n",
       "      <td>NaN</td>\n",
       "      <td>b'2017'</td>\n",
       "      <td>KUMAR</td>\n",
       "    </tr>\n",
       "  </tbody>\n",
       "</table>\n",
       "<p>5 rows × 33 columns</p>\n",
       "</div>"
      ],
      "text/plain": [
       "   cgpa  prog_code session  mobile_number  number_40_per_marks   roll_number  \\\n",
       "0  7.43         14   b'15'     8298659369                  970  311111415011   \n",
       "1  7.43         14   b'15'     8298659369                  970  311111415011   \n",
       "2  7.43         14   b'15'     8298659369                  970  511111415011   \n",
       "3  7.43         14   b'15'     8298659369                  970  611111415011   \n",
       "4  7.91         14   b'15'     7808196969                 1028  311111415021   \n",
       "\n",
       "  exam_held_month  mother_name  printing_date  semester  ...  is_duplicate  \\\n",
       "0           b'12'   MANJU DEVI  b'2018-05-31'       1.0  ...             0   \n",
       "1           b'05'   MANJU DEVI  b'2018-08-28'       3.0  ...             0   \n",
       "2           b'12'   MANJU DEVI  b'2019-04-01'       NaN  ...             0   \n",
       "3           b'06'   MANJU DEVI  b'2019-09-11'       NaN  ...             0   \n",
       "4           b'12'  BHWANI DEVI  b'2018-05-31'       NaN  ...             0   \n",
       "\n",
       "         father_name obtained_marks                        inst_name category  \\\n",
       "0       UPENDERA DAS            505  Government Polytechnic, Barauni       SC   \n",
       "1       UPENDERA DAS            488  Government Polytechnic, Barauni       SC   \n",
       "2       UPENDERA DAS            521  Government Polytechnic, Barauni       SC   \n",
       "3       UPENDERA DAS            532  Government Polytechnic, Barauni       SC   \n",
       "4  BINDESHWARI RAJAK            531  Government Polytechnic, Barauni       SC   \n",
       "\n",
       "   aadhar_number  first_name  middle_name  exam_held_year  last_name  \n",
       "0   684609096644      GAURAV          NaN         b'2017'      KUMAR  \n",
       "1   684609096644      GAURAV          NaN         b'2018'      KUMAR  \n",
       "2   684609096644      GAURAV          NaN         b'2018'      KUMAR  \n",
       "3   684609096644      GAURAV          NaN         b'2019'      KUMAR  \n",
       "4   707574843953       BANTI          NaN         b'2017'      KUMAR  \n",
       "\n",
       "[5 rows x 33 columns]"
      ]
     },
     "execution_count": 17,
     "metadata": {},
     "output_type": "execute_result"
    }
   ],
   "source": [
    "marksheet = pd.read_csv('E:\\WNC8\\csvstorage\\marksheetverification.csv') \n",
    "marksheet.head()"
   ]
  },
  {
   "cell_type": "code",
   "execution_count": 18,
   "metadata": {},
   "outputs": [],
   "source": [
    "# marksheet['obtained_marks']"
   ]
  },
  {
   "cell_type": "code",
   "execution_count": 19,
   "metadata": {},
   "outputs": [],
   "source": [
    "# marksheet.groupby(['first_name', 'roll_number']).obtained_marks.min() "
   ]
  },
  {
   "cell_type": "code",
   "execution_count": 20,
   "metadata": {},
   "outputs": [],
   "source": [
    "# marksheet.iloc[[0]]"
   ]
  },
  {
   "cell_type": "code",
   "execution_count": 21,
   "metadata": {},
   "outputs": [],
   "source": [
    "# marksheet.groupby(['first_name', 'roll_number']).apply(lambda df:df.loc[df.obtained_marks.idxmax()] )"
   ]
  },
  {
   "cell_type": "code",
   "execution_count": 22,
   "metadata": {},
   "outputs": [],
   "source": [
    "# student = pd.read_csv('E:\\WNC8\\csvstorage\\student.csv')\n",
    "# student.head()"
   ]
  },
  {
   "cell_type": "code",
   "execution_count": 23,
   "metadata": {},
   "outputs": [],
   "source": [
    "# student.columns.values"
   ]
  },
  {
   "cell_type": "code",
   "execution_count": 24,
   "metadata": {},
   "outputs": [],
   "source": [
    "# student.groupby(['institute','academic_session']).institute.count()"
   ]
  },
  {
   "cell_type": "code",
   "execution_count": 25,
   "metadata": {},
   "outputs": [],
   "source": [
    "# student.loc[(student.institute > 2 and student.institute <4), 'academic_session'] =2\n",
    "# student['academic_session'] = np.where((student['academic_session'] < 6) & (student['academic_session'] > 3) ,3,student['institute'])\n",
    "# student[['academic_session','institute']]"
   ]
  },
  {
   "cell_type": "code",
   "execution_count": 26,
   "metadata": {},
   "outputs": [],
   "source": [
    "# max_session = student.academic_session.max()\n",
    "# min_session = student.academic_session.min()\n",
    "\n",
    "# max_session, min_session"
   ]
  },
  {
   "cell_type": "code",
   "execution_count": 27,
   "metadata": {},
   "outputs": [],
   "source": [
    "# student.iloc[1].academic_session\n",
    "# np.std(student.academic_session)"
   ]
  },
  {
   "cell_type": "code",
   "execution_count": 28,
   "metadata": {},
   "outputs": [],
   "source": [
    "# y = pd.unique(student.academic_session)\n",
    "# y.sort()\n",
    "# y\n",
    "# plt.pie(y,labels=y)"
   ]
  },
  {
   "cell_type": "code",
   "execution_count": 29,
   "metadata": {},
   "outputs": [],
   "source": [
    "# student.sum(0)"
   ]
  },
  {
   "cell_type": "code",
   "execution_count": 30,
   "metadata": {},
   "outputs": [],
   "source": [
    "# y = pd.unique(student.gender)\n",
    "# y"
   ]
  },
  {
   "cell_type": "code",
   "execution_count": 31,
   "metadata": {},
   "outputs": [],
   "source": [
    "# student['gender'].value_counts(dropna=False, normalize=True)"
   ]
  },
  {
   "cell_type": "code",
   "execution_count": 32,
   "metadata": {},
   "outputs": [],
   "source": [
    "# student['gender'].describe()"
   ]
  },
  {
   "cell_type": "code",
   "execution_count": 33,
   "metadata": {},
   "outputs": [],
   "source": [
    "# student['academic_session'].describe()"
   ]
  },
  {
   "cell_type": "code",
   "execution_count": 34,
   "metadata": {},
   "outputs": [],
   "source": [
    "# student.reg_no.describe()"
   ]
  },
  {
   "cell_type": "code",
   "execution_count": 35,
   "metadata": {},
   "outputs": [],
   "source": [
    "# y= pd.unique(student.class_roll_no)\n",
    "# y\n",
    "\n"
   ]
  },
  {
   "cell_type": "code",
   "execution_count": 36,
   "metadata": {},
   "outputs": [],
   "source": [
    "# student.groupby(['class_roll_no']).institute.unique().value_counts().plot(kind='pie')"
   ]
  },
  {
   "cell_type": "code",
   "execution_count": 37,
   "metadata": {},
   "outputs": [],
   "source": [
    "# student.groupby(['class_roll_no']).program.unique().value_counts().plot(kind='pie')"
   ]
  },
  {
   "cell_type": "code",
   "execution_count": 38,
   "metadata": {},
   "outputs": [],
   "source": [
    "# student.groupby(['class_roll_no']).academic_session.unique().value_counts().plot(kind='pie')"
   ]
  },
  {
   "cell_type": "code",
   "execution_count": 39,
   "metadata": {},
   "outputs": [],
   "source": [
    "# student.groupby(['class_roll_no']).program.unique().value_counts().plot(kind='barh')"
   ]
  },
  {
   "cell_type": "code",
   "execution_count": 40,
   "metadata": {},
   "outputs": [],
   "source": [
    "# student[['class_roll_no' ,'institute']]\n",
    "# "
   ]
  },
  {
   "cell_type": "code",
   "execution_count": 41,
   "metadata": {},
   "outputs": [],
   "source": [
    "# stpd = pd.read_csv('E:\\WNC8\\csvstorage\\qsa_student.csv')\n",
    "# stpd"
   ]
  },
  {
   "cell_type": "code",
   "execution_count": 42,
   "metadata": {},
   "outputs": [],
   "source": [
    "# student.iloc[1]"
   ]
  },
  {
   "cell_type": "code",
   "execution_count": 43,
   "metadata": {},
   "outputs": [],
   "source": [
    "# student['academic_session'] = np.where((student['academic_session'] < 6) & (student['academic_session'] > 3) ,3,student['institute'])\n",
    "\n",
    "# student['dob'] = np.where()"
   ]
  },
  {
   "cell_type": "code",
   "execution_count": 44,
   "metadata": {},
   "outputs": [],
   "source": [
    "# y = student[['dob']][0].dob.unique()\n",
    "# y = pd.to_datetime(student['dob'],errors='coerce').dt.year.unique()\n",
    "# x = student['class_roll_no'].groupby(student['dob']).unique().value_counts()\n",
    "# student['class_roll_no'].values\n",
    "# x,y = ['1',2,3],[4,'5',6]\n",
    "\n",
    "# y = student.dob.values\n",
    "# x = (student[['class_roll_no']].class_roll_no.unique()).__str__()\n",
    "# y\n",
    "# x\n",
    "# plt.plot(x,y)\n",
    "# student.groupby(['dob','class_roll_no']).dob.unique()\n",
    "\n"
   ]
  },
  {
   "cell_type": "code",
   "execution_count": 45,
   "metadata": {},
   "outputs": [],
   "source": [
    "# x = pd.to_datetime(student['dob'],errors='coerce').dt.year\n",
    "# dob_counts = x.value_counts().plot(figsize=(20,5))\n",
    "# dob_counts\n",
    "# x = pd.to_datetime(student['dob'],errors='coerce').dt.year\n"
   ]
  },
  {
   "cell_type": "code",
   "execution_count": 46,
   "metadata": {},
   "outputs": [],
   "source": [
    "# student.columns"
   ]
  },
  {
   "cell_type": "code",
   "execution_count": 47,
   "metadata": {},
   "outputs": [],
   "source": [
    "# student.info()"
   ]
  },
  {
   "cell_type": "code",
   "execution_count": 48,
   "metadata": {},
   "outputs": [],
   "source": [
    "# student.describe()"
   ]
  },
  {
   "attachments": {},
   "cell_type": "markdown",
   "metadata": {},
   "source": [
    "1. missing values\n",
    "2. relationship btw feaures"
   ]
  },
  {
   "cell_type": "code",
   "execution_count": 49,
   "metadata": {},
   "outputs": [],
   "source": [
    "# student.isnull().sum()  #missing value"
   ]
  },
  {
   "cell_type": "code",
   "execution_count": 50,
   "metadata": {},
   "outputs": [],
   "source": [
    "# [features for features in student.columns if student[features].isnull().sum()>0]  #list missing values"
   ]
  },
  {
   "cell_type": "code",
   "execution_count": 51,
   "metadata": {},
   "outputs": [],
   "source": [
    "# plt.plot(student.isnull())"
   ]
  },
  {
   "cell_type": "code",
   "execution_count": 52,
   "metadata": {},
   "outputs": [],
   "source": [
    "# student.category.value_counts(normalize=True).sort_values().plot(figsize=(9,9))"
   ]
  },
  {
   "cell_type": "code",
   "execution_count": 53,
   "metadata": {},
   "outputs": [],
   "source": [
    "# student.comm_country.value_counts(normalize=False).sort_values().plot(figsize=(9,9))"
   ]
  },
  {
   "cell_type": "code",
   "execution_count": 54,
   "metadata": {},
   "outputs": [],
   "source": [
    "# student.email.is_unique.value_counts(normalize=False).plot(kind='pie',figsize=(20,6))"
   ]
  },
  {
   "cell_type": "code",
   "execution_count": 55,
   "metadata": {},
   "outputs": [],
   "source": [
    "# student.groupby(['first_name', 'middle_name','last_name']).size()"
   ]
  },
  {
   "cell_type": "code",
   "execution_count": 56,
   "metadata": {},
   "outputs": [],
   "source": [
    "# student.groupby(['class_roll_no']).size().reset_index().rename(columns={0:'occuring'}).plot()"
   ]
  },
  {
   "cell_type": "code",
   "execution_count": 57,
   "metadata": {},
   "outputs": [
    {
     "name": "stdout",
     "output_type": "stream",
     "text": [
      "<class 'pandas.core.frame.DataFrame'>\n",
      "RangeIndex: 62 entries, 0 to 61\n",
      "Data columns (total 33 columns):\n",
      " #   Column                   Non-Null Count  Dtype  \n",
      "---  ------                   --------------  -----  \n",
      " 0   cgpa                     60 non-null     float64\n",
      " 1   prog_code                62 non-null     int64  \n",
      " 2   session                  62 non-null     object \n",
      " 3   mobile_number            62 non-null     int64  \n",
      " 4   number_40_per_marks      62 non-null     int64  \n",
      " 5   roll_number              62 non-null     int64  \n",
      " 6   exam_held_month          62 non-null     object \n",
      " 7   mother_name              62 non-null     object \n",
      " 8   printing_date            62 non-null     object \n",
      " 9   semester                 3 non-null      float64\n",
      " 10  marksheet_no             62 non-null     int64  \n",
      " 11  email                    62 non-null     object \n",
      " 12  dob                      62 non-null     object \n",
      " 13  max_marks_upto_6th       62 non-null     int64  \n",
      " 14  sex                      62 non-null     object \n",
      " 15  registration_number      62 non-null     int64  \n",
      " 16  is_duplicate_issued      62 non-null     int64  \n",
      " 17  id                       62 non-null     int64  \n",
      " 18  obtained_marks_upto_6th  62 non-null     int64  \n",
      " 19  sgpa                     62 non-null     float64\n",
      " 20  inst_code                62 non-null     int64  \n",
      " 21  result                   62 non-null     object \n",
      " 22  prog_name                62 non-null     object \n",
      " 23  is_duplicate             62 non-null     int64  \n",
      " 24  father_name              62 non-null     object \n",
      " 25  obtained_marks           62 non-null     int64  \n",
      " 26  inst_name                62 non-null     object \n",
      " 27  category                 62 non-null     object \n",
      " 28  aadhar_number            62 non-null     int64  \n",
      " 29  first_name               62 non-null     object \n",
      " 30  middle_name              6 non-null      object \n",
      " 31  exam_held_year           62 non-null     object \n",
      " 32  last_name                62 non-null     object \n",
      "dtypes: float64(3), int64(14), object(16)\n",
      "memory usage: 16.1+ KB\n"
     ]
    }
   ],
   "source": [
    "marksheet.info()"
   ]
  },
  {
   "cell_type": "code",
   "execution_count": 59,
   "metadata": {},
   "outputs": [
    {
     "data": {
      "text/html": [
       "<div>\n",
       "<style scoped>\n",
       "    .dataframe tbody tr th:only-of-type {\n",
       "        vertical-align: middle;\n",
       "    }\n",
       "\n",
       "    .dataframe tbody tr th {\n",
       "        vertical-align: top;\n",
       "    }\n",
       "\n",
       "    .dataframe thead th {\n",
       "        text-align: right;\n",
       "    }\n",
       "</style>\n",
       "<table border=\"1\" class=\"dataframe\">\n",
       "  <thead>\n",
       "    <tr style=\"text-align: right;\">\n",
       "      <th></th>\n",
       "      <th>cgpa</th>\n",
       "      <th>prog_code</th>\n",
       "      <th>session</th>\n",
       "      <th>mobile_number</th>\n",
       "      <th>number_40_per_marks</th>\n",
       "      <th>roll_number</th>\n",
       "      <th>exam_held_month</th>\n",
       "      <th>mother_name</th>\n",
       "      <th>printing_date</th>\n",
       "      <th>semester</th>\n",
       "      <th>...</th>\n",
       "      <th>is_duplicate</th>\n",
       "      <th>father_name</th>\n",
       "      <th>obtained_marks</th>\n",
       "      <th>inst_name</th>\n",
       "      <th>category</th>\n",
       "      <th>aadhar_number</th>\n",
       "      <th>first_name</th>\n",
       "      <th>middle_name</th>\n",
       "      <th>exam_held_year</th>\n",
       "      <th>last_name</th>\n",
       "    </tr>\n",
       "  </thead>\n",
       "  <tbody>\n",
       "    <tr>\n",
       "      <th>0</th>\n",
       "      <td>7.43</td>\n",
       "      <td>14</td>\n",
       "      <td>b'15'</td>\n",
       "      <td>8298659369</td>\n",
       "      <td>970</td>\n",
       "      <td>311111415011</td>\n",
       "      <td>b'12'</td>\n",
       "      <td>MANJU DEVI</td>\n",
       "      <td>b'2018-05-31'</td>\n",
       "      <td>1.0</td>\n",
       "      <td>...</td>\n",
       "      <td>0</td>\n",
       "      <td>UPENDERA DAS</td>\n",
       "      <td>505</td>\n",
       "      <td>Government Polytechnic, Barauni</td>\n",
       "      <td>SC</td>\n",
       "      <td>684609096644</td>\n",
       "      <td>GAURAV</td>\n",
       "      <td>NaN</td>\n",
       "      <td>b'2017'</td>\n",
       "      <td>KUMAR</td>\n",
       "    </tr>\n",
       "    <tr>\n",
       "      <th>1</th>\n",
       "      <td>7.43</td>\n",
       "      <td>14</td>\n",
       "      <td>b'15'</td>\n",
       "      <td>8298659369</td>\n",
       "      <td>970</td>\n",
       "      <td>311111415011</td>\n",
       "      <td>b'05'</td>\n",
       "      <td>MANJU DEVI</td>\n",
       "      <td>b'2018-08-28'</td>\n",
       "      <td>3.0</td>\n",
       "      <td>...</td>\n",
       "      <td>0</td>\n",
       "      <td>UPENDERA DAS</td>\n",
       "      <td>488</td>\n",
       "      <td>Government Polytechnic, Barauni</td>\n",
       "      <td>SC</td>\n",
       "      <td>684609096644</td>\n",
       "      <td>GAURAV</td>\n",
       "      <td>NaN</td>\n",
       "      <td>b'2018'</td>\n",
       "      <td>KUMAR</td>\n",
       "    </tr>\n",
       "  </tbody>\n",
       "</table>\n",
       "<p>2 rows × 33 columns</p>\n",
       "</div>"
      ],
      "text/plain": [
       "   cgpa  prog_code session  mobile_number  number_40_per_marks   roll_number  \\\n",
       "0  7.43         14   b'15'     8298659369                  970  311111415011   \n",
       "1  7.43         14   b'15'     8298659369                  970  311111415011   \n",
       "\n",
       "  exam_held_month mother_name  printing_date  semester  ...  is_duplicate  \\\n",
       "0           b'12'  MANJU DEVI  b'2018-05-31'       1.0  ...             0   \n",
       "1           b'05'  MANJU DEVI  b'2018-08-28'       3.0  ...             0   \n",
       "\n",
       "    father_name obtained_marks                        inst_name category  \\\n",
       "0  UPENDERA DAS            505  Government Polytechnic, Barauni       SC   \n",
       "1  UPENDERA DAS            488  Government Polytechnic, Barauni       SC   \n",
       "\n",
       "   aadhar_number  first_name  middle_name  exam_held_year  last_name  \n",
       "0   684609096644      GAURAV          NaN         b'2017'      KUMAR  \n",
       "1   684609096644      GAURAV          NaN         b'2018'      KUMAR  \n",
       "\n",
       "[2 rows x 33 columns]"
      ]
     },
     "execution_count": 59,
     "metadata": {},
     "output_type": "execute_result"
    }
   ],
   "source": [
    "# marksheet.describe()\n",
    "marksheet.head(2)"
   ]
  },
  {
   "cell_type": "code",
   "execution_count": 75,
   "metadata": {},
   "outputs": [
    {
     "data": {
      "text/plain": [
       "<Axes: xlabel='marksheet_no'>"
      ]
     },
     "execution_count": 75,
     "metadata": {},
     "output_type": "execute_result"
    },
    {
     "data": {
      "image/png": "[encoded data removed]",
      "text/plain": [
       "<Figure size 640x480 with 1 Axes>"
      ]
     },
     "metadata": {},
     "output_type": "display_data"
    }
   ],
   "source": [
    "marksheet.groupby('marksheet_no').obtained_marks.sum().plot()"
   ]
  },
  {
   "cell_type": "code",
   "execution_count": null,
   "metadata": {},
   "outputs": [],
   "source": []
  }
 ],
 "metadata": {
  "kernelspec": {
   "display_name": "venv",
   "language": "python",
   "name": "python3"
  },
  "language_info": {
   "codemirror_mode": {
    "name": "ipython",
    "version": 3
   },
   "file_extension": ".py",
   "mimetype": "text/x-python",
   "name": "python",
   "nbconvert_exporter": "python",
   "pygments_lexer": "ipython3",
   "version": "3.11.0"
  },
  "orig_nbformat": 4,
  "vscode": {
   "interpreter": {
    "hash": "76ed4b33176aa23f2d0c9cda7f1489596cf7c445b3f0b0bbc7225cfddd4cff01"
   }
  }
 },
 "nbformat": 4,
 "nbformat_minor": 2
}
